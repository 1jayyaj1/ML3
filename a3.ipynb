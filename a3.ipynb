{
  "nbformat": 4,
  "nbformat_minor": 0,
  "metadata": {
    "colab": {
      "name": "a3.ipynb",
      "provenance": [],
      "collapsed_sections": []
    },
    "kernelspec": {
      "name": "python3",
      "display_name": "Python 3.8.0 64-bit",
      "metadata": {
        "interpreter": {
          "hash": "91d8b8d4f2c05abd02447dc02129180e2294554a34742056aca110b97610a4a8"
        }
      }
    },
    "language_info": {
      "codemirror_mode": {
        "name": "ipython",
        "version": 3
      },
      "file_extension": ".py",
      "mimetype": "text/x-python",
      "name": "python",
      "nbconvert_exporter": "python",
      "pygments_lexer": "ipython3",
      "version": "3.8.0-final"
    }
  },
  "cells": [
    {
      "cell_type": "code",
      "metadata": {
        "colab": {
          "base_uri": "https://localhost:8080/"
        },
        "id": "f-2lfpAKQLcN",
        "outputId": "1b8c6769-bad3-4f15-c630-b2bf8b6d034d"
      },
      "source": [
        "import numpy as np\n",
        "import cv2\n",
        "import h5py\n",
        "from sklearn.model_selection import train_test_split\n",
        "from google.colab.patches import cv2_imshow\n",
        "from matplotlib import pyplot as plt\n",
        "from google.colab import drive\n",
        "drive.mount('/content/drive')\n",
        "\n",
        "path = '/content/drive/My Drive/Colab_Notebooks/'"
      ],
      "execution_count": 17,
      "outputs": [
        {
          "output_type": "stream",
          "text": [
            "Drive already mounted at /content/drive; to attempt to forcibly remount, call drive.mount(\"/content/drive\", force_remount=True).\n"
          ],
          "name": "stdout"
        }
      ]
    },
    {
      "cell_type": "code",
      "metadata": {
        "colab": {
          "base_uri": "https://localhost:8080/"
        },
        "id": "I7aDlOGYQ2oZ",
        "outputId": "5a8041ec-3475-4d8c-c99f-f98b11fb9dcf"
      },
      "source": [
        "hf = h5py.File(path + 'MNIST_synthetic.h5', 'r')\n",
        "print(hf.keys())\n",
        "\n",
        "X_train = hf['train_dataset']\n",
        "print(X_train.shape)\n",
        "\n",
        "y_train = hf['train_labels']\n",
        "print(y_train.shape)\n",
        "\n",
        "X_test = hf['test_dataset']\n",
        "print(X_test.shape)"
      ],
      "execution_count": 3,
      "outputs": [
        {
          "output_type": "stream",
          "text": [
            "<KeysViewHDF5 ['test_dataset', 'train_dataset', 'train_labels']>\n",
            "(56000, 64, 64, 1)\n",
            "(56000, 5)\n",
            "(14000, 64, 64, 1)\n"
          ],
          "name": "stdout"
        }
      ]
    },
    {
      "cell_type": "code",
      "metadata": {
        "colab": {
          "base_uri": "https://localhost:8080/",
          "height": 400
        },
        "id": "QwS309uMT0GD",
        "outputId": "54b03e7e-2005-4c54-83f6-40ced253ead4"
      },
      "source": [
        "temp_x = np.array(X_train[:1])\n",
        "print(temp_x.shape)\n",
        "\n",
        "img_original = cv2.imread(path + 'num.png')\n",
        "\n",
        "img_gray=cv2.cvtColor(img_original,cv2.COLOR_BGR2GRAY)\n",
        "\n",
        "retv,thresh=cv2.threshold(img_gray,125,255,1)\n",
        "\n",
        "contours,hierarchy=cv2.findContours(thresh,cv2.RETR_TREE,cv2.CHAIN_APPROX_SIMPLE)\n",
        "\n",
        "cv2.drawContours(img_original,contours,-1,(0,0,255),3,lineType=cv2.LINE_AA)\n",
        "\n",
        "cv2_imshow(img_original)\n",
        "cv2.waitKey()\n",
        "cv2.destroyAllWindows()"
      ],
      "execution_count": 23,
      "outputs": [
        {
          "output_type": "stream",
          "text": [
            "(1, 64, 64, 1)\n"
          ],
          "name": "stdout"
        },
        {
          "output_type": "display_data",
          "data": {
            "image/png": "[encoded data removed]",
            "text/plain": [
              "<PIL.Image.Image image mode=RGB size=368x368 at 0x7FA510050208>"
            ]
          },
          "metadata": {
            "tags": []
          }
        }
      ]
    }
  ]
}